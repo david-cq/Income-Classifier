{
 "cells": [
  {
   "cell_type": "markdown",
   "metadata": {},
   "source": [
    "# Modeling"
   ]
  },
  {
   "cell_type": "code",
   "execution_count": 1,
   "metadata": {},
   "outputs": [],
   "source": [
    "import numpy as np\n",
    "import pandas as pd\n",
    "import matplotlib.pyplot as plt\n",
    "from sklearn.svm import LinearSVC\n",
    "from sklearn.preprocessing import StandardScaler\n",
    "from sklearn.linear_model import LogisticRegression\n",
    "from sklearn.model_selection import GridSearchCV, train_test_split, cross_val_score\n",
    "from xgboost import XGBClassifier\n",
    "from sklearn.ensemble import RandomForestClassifier, ExtraTreesClassifier\n",
    "from sklearn.naive_bayes import MultinomialNB, GaussianNB"
   ]
  },
  {
   "cell_type": "code",
   "execution_count": 3,
   "metadata": {},
   "outputs": [],
   "source": [
    "df = pd.read_csv('./data/large_clean.csv')"
   ]
  },
  {
   "cell_type": "markdown",
   "metadata": {},
   "source": [
    "## Baseline Model"
   ]
  },
  {
   "cell_type": "code",
   "execution_count": 4,
   "metadata": {},
   "outputs": [
    {
     "data": {
      "text/plain": [
       "0    0.75919\n",
       "1    0.24081\n",
       "Name: wage, dtype: float64"
      ]
     },
     "execution_count": 4,
     "metadata": {},
     "output_type": "execute_result"
    }
   ],
   "source": [
    "df['wage'].value_counts(normalize=True)"
   ]
  },
  {
   "cell_type": "markdown",
   "metadata": {},
   "source": [
    "## Split Data"
   ]
  },
  {
   "cell_type": "code",
   "execution_count": 5,
   "metadata": {},
   "outputs": [],
   "source": [
    "# seperating the data\n",
    "X = df.drop(columns = 'wage')\n",
    "y = df['wage']"
   ]
  },
  {
   "cell_type": "code",
   "execution_count": 6,
   "metadata": {},
   "outputs": [],
   "source": [
    "# train/test splitting data\n",
    "X_train, X_test, y_train, y_test = train_test_split(X, y, random_state=42, stratify = y)"
   ]
  },
  {
   "cell_type": "markdown",
   "metadata": {},
   "source": [
    "## XGboost"
   ]
  },
  {
   "cell_type": "code",
   "execution_count": 7,
   "metadata": {},
   "outputs": [],
   "source": [
    "params = {\n",
    "    'n_estimators': [50, 75, 100, 125],\n",
    "    'max_features': [None, 'auto', 'log2'],\n",
    "    'max_depth': [2, 3, 4]\n",
    "}\n",
    "\n",
    "sXGB = XGBClassifier()\n",
    "gXGB = GridSearchCV(sXGB, params, n_jobs=4)\n",
    "gXGB.fit(X_train, y_train);"
   ]
  },
  {
   "cell_type": "code",
   "execution_count": 8,
   "metadata": {},
   "outputs": [
    {
     "name": "stdout",
     "output_type": "stream",
     "text": [
      "XGBoost Training Accuracy: 0.8618755118755119 \n",
      "XGBoost Testing Accuracy: 0.8565286819801007 \n"
     ]
    }
   ],
   "source": [
    "print(f\"XGBoost Training Accuracy: {gXGB.score(X_train, y_train)} \")\n",
    "print(f\"XGBoost Testing Accuracy: {gXGB.score(X_test, y_test)} \")"
   ]
  },
  {
   "cell_type": "code",
   "execution_count": 9,
   "metadata": {},
   "outputs": [
    {
     "data": {
      "text/plain": [
       "{'max_depth': 2, 'max_features': None, 'n_estimators': 125}"
      ]
     },
     "execution_count": 9,
     "metadata": {},
     "output_type": "execute_result"
    }
   ],
   "source": [
    "gXGB.best_params_"
   ]
  },
  {
   "cell_type": "markdown",
   "metadata": {},
   "source": [
    "## Logistic Regression"
   ]
  },
  {
   "cell_type": "code",
   "execution_count": 10,
   "metadata": {},
   "outputs": [
    {
     "name": "stdout",
     "output_type": "stream",
     "text": [
      "Train: 0.8422\n",
      "Test: 0.8441\n"
     ]
    }
   ],
   "source": [
    "# Scale data\n",
    "scaler = StandardScaler()\n",
    "X_train_sc = scaler.fit_transform(X_train)\n",
    "X_test_sc = scaler.transform(X_test)\n",
    "\n",
    "# Fit model\n",
    "logreg = LogisticRegression(solver='liblinear')\n",
    "logreg.fit(X_train_sc, y_train)\n",
    "\n",
    "print(f'Train: {round(logreg.score(X_train_sc, y_train), 4)}')\n",
    "print(f'Test: {round(logreg.score(X_test_sc, y_test), 4)}')"
   ]
  },
  {
   "cell_type": "markdown",
   "metadata": {},
   "source": [
    "## Coefficients"
   ]
  },
  {
   "cell_type": "code",
   "execution_count": 11,
   "metadata": {},
   "outputs": [
    {
     "data": {
      "text/html": [
       "<div>\n",
       "<style scoped>\n",
       "    .dataframe tbody tr th:only-of-type {\n",
       "        vertical-align: middle;\n",
       "    }\n",
       "\n",
       "    .dataframe tbody tr th {\n",
       "        vertical-align: top;\n",
       "    }\n",
       "\n",
       "    .dataframe thead th {\n",
       "        text-align: right;\n",
       "    }\n",
       "</style>\n",
       "<table border=\"1\" class=\"dataframe\">\n",
       "  <thead>\n",
       "    <tr style=\"text-align: right;\">\n",
       "      <th></th>\n",
       "      <th>0</th>\n",
       "    </tr>\n",
       "  </thead>\n",
       "  <tbody>\n",
       "    <tr>\n",
       "      <th>education-num^2 hours-per-week</th>\n",
       "      <td>-0.576253</td>\n",
       "    </tr>\n",
       "    <tr>\n",
       "      <th>age education-num^2</th>\n",
       "      <td>-0.537581</td>\n",
       "    </tr>\n",
       "    <tr>\n",
       "      <th>fnlwgt education-num^2</th>\n",
       "      <td>-0.391873</td>\n",
       "    </tr>\n",
       "    <tr>\n",
       "      <th>relationship_Own-child</th>\n",
       "      <td>-0.355963</td>\n",
       "    </tr>\n",
       "    <tr>\n",
       "      <th>age fnlwgt hours-per-week</th>\n",
       "      <td>-0.268905</td>\n",
       "    </tr>\n",
       "    <tr>\n",
       "      <th>age hours-per-week</th>\n",
       "      <td>-0.219709</td>\n",
       "    </tr>\n",
       "    <tr>\n",
       "      <th>marital-status_Never-married</th>\n",
       "      <td>-0.191540</td>\n",
       "    </tr>\n",
       "    <tr>\n",
       "      <th>fnlwgt capital-gain</th>\n",
       "      <td>-0.107518</td>\n",
       "    </tr>\n",
       "    <tr>\n",
       "      <th>education_Bachelors</th>\n",
       "      <td>0.029738</td>\n",
       "    </tr>\n",
       "    <tr>\n",
       "      <th>sex_Male</th>\n",
       "      <td>0.057148</td>\n",
       "    </tr>\n",
       "    <tr>\n",
       "      <th>relationship_Not-in-family</th>\n",
       "      <td>0.168734</td>\n",
       "    </tr>\n",
       "    <tr>\n",
       "      <th>hours-per-week</th>\n",
       "      <td>0.206881</td>\n",
       "    </tr>\n",
       "    <tr>\n",
       "      <th>age</th>\n",
       "      <td>0.219185</td>\n",
       "    </tr>\n",
       "    <tr>\n",
       "      <th>occupation_Exec-managerial</th>\n",
       "      <td>0.247844</td>\n",
       "    </tr>\n",
       "    <tr>\n",
       "      <th>age fnlwgt education-num</th>\n",
       "      <td>0.275786</td>\n",
       "    </tr>\n",
       "    <tr>\n",
       "      <th>fnlwgt education-num hours-per-week</th>\n",
       "      <td>0.444076</td>\n",
       "    </tr>\n",
       "    <tr>\n",
       "      <th>age education-num hours-per-week</th>\n",
       "      <td>0.876278</td>\n",
       "    </tr>\n",
       "    <tr>\n",
       "      <th>marital-status_Married-civ-spouse</th>\n",
       "      <td>1.176970</td>\n",
       "    </tr>\n",
       "    <tr>\n",
       "      <th>education-num^3</th>\n",
       "      <td>1.238797</td>\n",
       "    </tr>\n",
       "    <tr>\n",
       "      <th>capital-gain</th>\n",
       "      <td>2.246838</td>\n",
       "    </tr>\n",
       "  </tbody>\n",
       "</table>\n",
       "</div>"
      ],
      "text/plain": [
       "                                            0\n",
       "education-num^2 hours-per-week      -0.576253\n",
       "age education-num^2                 -0.537581\n",
       "fnlwgt education-num^2              -0.391873\n",
       "relationship_Own-child              -0.355963\n",
       "age fnlwgt hours-per-week           -0.268905\n",
       "age hours-per-week                  -0.219709\n",
       "marital-status_Never-married        -0.191540\n",
       "fnlwgt capital-gain                 -0.107518\n",
       "education_Bachelors                  0.029738\n",
       "sex_Male                             0.057148\n",
       "relationship_Not-in-family           0.168734\n",
       "hours-per-week                       0.206881\n",
       "age                                  0.219185\n",
       "occupation_Exec-managerial           0.247844\n",
       "age fnlwgt education-num             0.275786\n",
       "fnlwgt education-num hours-per-week  0.444076\n",
       "age education-num hours-per-week     0.876278\n",
       "marital-status_Married-civ-spouse    1.176970\n",
       "education-num^3                      1.238797\n",
       "capital-gain                         2.246838"
      ]
     },
     "execution_count": 11,
     "metadata": {},
     "output_type": "execute_result"
    }
   ],
   "source": [
    "coefs = zip(X_train.columns, logreg.coef_)\n",
    "coef_df = pd.DataFrame(logreg.coef_, columns = X_train.columns).T\n",
    "\n",
    "coef_df.sort_values(by=0)"
   ]
  },
  {
   "cell_type": "markdown",
   "metadata": {},
   "source": [
    "## Decision Tree"
   ]
  },
  {
   "cell_type": "code",
   "execution_count": 12,
   "metadata": {},
   "outputs": [],
   "source": [
    "rf = RandomForestClassifier()\n",
    "et = ExtraTreesClassifier()"
   ]
  },
  {
   "cell_type": "code",
   "execution_count": 13,
   "metadata": {},
   "outputs": [
    {
     "name": "stdout",
     "output_type": "stream",
     "text": [
      "RF score: 0.8346437346437346\n",
      "ET score: 0.822972972972973\n"
     ]
    }
   ],
   "source": [
    "print(f'RF score: {cross_val_score(rf, X_train, y_train, cv=5).mean()}')\n",
    "print(f'ET score: {cross_val_score(et, X_train, y_train, cv=5).mean()}')"
   ]
  },
  {
   "cell_type": "markdown",
   "metadata": {},
   "source": [
    "Random forest model performs better."
   ]
  },
  {
   "cell_type": "code",
   "execution_count": 14,
   "metadata": {},
   "outputs": [],
   "source": [
    "model_params = {}\n",
    "count = 0"
   ]
  },
  {
   "cell_type": "code",
   "execution_count": 15,
   "metadata": {},
   "outputs": [],
   "source": [
    "rf = RandomForestClassifier(random_state=33, n_jobs = 4)\n",
    "\n",
    "params = {\n",
    "    'n_estimators': [50, 75, 100, 125],\n",
    "    'max_features': [None, 'auto', 'log2'],\n",
    "    'max_depth': [3, 4, 5]\n",
    "}\n",
    "\n",
    "gs = GridSearchCV(rf, param_grid=params, cv=5)\n",
    "\n",
    "gs.fit(X_train, y_train)\n",
    "\n",
    "count += 1\n",
    "\n",
    "gs.best_params_['score'] = gs.best_score_\n",
    "model_params[f'model_{count}'] = gs.best_params_\n",
    "\n",
    "model_df = pd.DataFrame.from_dict(model_params, orient='index')"
   ]
  },
  {
   "cell_type": "code",
   "execution_count": 16,
   "metadata": {},
   "outputs": [
    {
     "data": {
      "text/plain": [
       "{'model_1': {'max_depth': 5,\n",
       "  'max_features': None,\n",
       "  'n_estimators': 50,\n",
       "  'score': 0.8464373464373465}}"
      ]
     },
     "execution_count": 16,
     "metadata": {},
     "output_type": "execute_result"
    }
   ],
   "source": [
    "model_params"
   ]
  },
  {
   "cell_type": "code",
   "execution_count": 17,
   "metadata": {},
   "outputs": [
    {
     "data": {
      "text/plain": [
       "0.8505097653850878"
      ]
     },
     "execution_count": 17,
     "metadata": {},
     "output_type": "execute_result"
    }
   ],
   "source": [
    "gs.score(X_test, y_test)"
   ]
  },
  {
   "cell_type": "markdown",
   "metadata": {},
   "source": [
    "## Gaussian NB Modeling"
   ]
  },
  {
   "cell_type": "code",
   "execution_count": 18,
   "metadata": {},
   "outputs": [
    {
     "name": "stdout",
     "output_type": "stream",
     "text": [
      "Train: 0.826986076986077\n",
      "Test: 0.830241985014126\n"
     ]
    }
   ],
   "source": [
    "# Scale\n",
    "sc = StandardScaler()\n",
    "X_train_sc = sc.fit_transform(X_train)\n",
    "X_test_sc = sc.fit_transform(X_test)\n",
    "\n",
    "gnb = GaussianNB()\n",
    "gnb.fit(X_train_sc, y_train)\n",
    "\n",
    "print(f'Train: {gnb.score(X_train_sc, y_train)}')\n",
    "print(f'Test: {gnb.score(X_test_sc, y_test)}')"
   ]
  }
 ],
 "metadata": {
  "kernelspec": {
   "display_name": "Python 3",
   "language": "python",
   "name": "python3"
  },
  "language_info": {
   "codemirror_mode": {
    "name": "ipython",
    "version": 3
   },
   "file_extension": ".py",
   "mimetype": "text/x-python",
   "name": "python",
   "nbconvert_exporter": "python",
   "pygments_lexer": "ipython3",
   "version": "3.8.3"
  }
 },
 "nbformat": 4,
 "nbformat_minor": 4
}
